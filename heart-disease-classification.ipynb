{
 "cells": [
  {
   "cell_type": "code",
   "execution_count": 1,
   "metadata": {
    "_cell_guid": "b1076dfc-b9ad-4769-8c92-a6c4dae69d19",
    "_uuid": "8f2839f25d086af736a60e9eeb907d3b93b6e0e5",
    "execution": {
     "iopub.execute_input": "2021-01-18T15:23:02.493160Z",
     "iopub.status.busy": "2021-01-18T15:23:02.492435Z",
     "iopub.status.idle": "2021-01-18T15:23:02.504754Z",
     "shell.execute_reply": "2021-01-18T15:23:02.503926Z"
    },
    "papermill": {
     "duration": 0.035709,
     "end_time": "2021-01-18T15:23:02.504890",
     "exception": false,
     "start_time": "2021-01-18T15:23:02.469181",
     "status": "completed"
    },
    "tags": []
   },
   "outputs": [
    {
     "name": "stdout",
     "output_type": "stream",
     "text": [
      "/kaggle/input/heart-disease-uci/heart.csv\n"
     ]
    }
   ],
   "source": [
    "# This Python 3 environment comes with many helpful analytics libraries installed\n",
    "# It is defined by the kaggle/python Docker image: https://github.com/kaggle/docker-python\n",
    "# For example, here's several helpful packages to load\n",
    "\n",
    "import numpy as np # linear algebra\n",
    "import pandas as pd # data processing, CSV file I/O (e.g. pd.read_csv)\n",
    "\n",
    "# Input data files are available in the read-only \"../input/\" directory\n",
    "# For example, running this (by clicking run or pressing Shift+Enter) will list all files under the input directory\n",
    "\n",
    "import os\n",
    "for dirname, _, filenames in os.walk('/kaggle/input'):\n",
    "    for filename in filenames:\n",
    "        print(os.path.join(dirname, filename))\n",
    "\n",
    "# You can write up to 20GB to the current directory (/kaggle/working/) that gets preserved as output when you create a version using \"Save & Run All\" \n",
    "# You can also write temporary files to /kaggle/temp/, but they won't be saved outside of the current session"
   ]
  },
  {
   "cell_type": "code",
   "execution_count": 2,
   "metadata": {
    "execution": {
     "iopub.execute_input": "2021-01-18T15:23:02.543160Z",
     "iopub.status.busy": "2021-01-18T15:23:02.542472Z",
     "iopub.status.idle": "2021-01-18T15:23:04.206469Z",
     "shell.execute_reply": "2021-01-18T15:23:04.205909Z"
    },
    "papermill": {
     "duration": 1.684882,
     "end_time": "2021-01-18T15:23:04.206683",
     "exception": false,
     "start_time": "2021-01-18T15:23:02.521801",
     "status": "completed"
    },
    "tags": []
   },
   "outputs": [],
   "source": [
    "import matplotlib.pyplot as plt\n",
    "import seaborn as sns\n",
    "from sklearn.model_selection import train_test_split\n",
    "from sklearn import svm\n",
    "from sklearn.model_selection import GridSearchCV\n",
    "np.random.seed(42)"
   ]
  },
  {
   "cell_type": "markdown",
   "metadata": {
    "papermill": {
     "duration": 0.013734,
     "end_time": "2021-01-18T15:23:04.234724",
     "exception": false,
     "start_time": "2021-01-18T15:23:04.220990",
     "status": "completed"
    },
    "tags": []
   },
   "source": [
    "# **Reaging and show data from csv file**"
   ]
  },
  {
   "cell_type": "code",
   "execution_count": 3,
   "metadata": {
    "_cell_guid": "79c7e3d0-c299-4dcb-8224-4455121ee9b0",
    "_uuid": "d629ff2d2480ee46fbb7e2d37f6b5fab8052498a",
    "execution": {
     "iopub.execute_input": "2021-01-18T15:23:04.272420Z",
     "iopub.status.busy": "2021-01-18T15:23:04.271584Z",
     "iopub.status.idle": "2021-01-18T15:23:04.319767Z",
     "shell.execute_reply": "2021-01-18T15:23:04.320317Z"
    },
    "papermill": {
     "duration": 0.07141,
     "end_time": "2021-01-18T15:23:04.320485",
     "exception": false,
     "start_time": "2021-01-18T15:23:04.249075",
     "status": "completed"
    },
    "tags": []
   },
   "outputs": [
    {
     "data": {
      "text/html": [
       "<div>\n",
       "<style scoped>\n",
       "    .dataframe tbody tr th:only-of-type {\n",
       "        vertical-align: middle;\n",
       "    }\n",
       "\n",
       "    .dataframe tbody tr th {\n",
       "        vertical-align: top;\n",
       "    }\n",
       "\n",
       "    .dataframe thead th {\n",
       "        text-align: right;\n",
       "    }\n",
       "</style>\n",
       "<table border=\"1\" class=\"dataframe\">\n",
       "  <thead>\n",
       "    <tr style=\"text-align: right;\">\n",
       "      <th></th>\n",
       "      <th>age</th>\n",
       "      <th>sex</th>\n",
       "      <th>cp</th>\n",
       "      <th>trestbps</th>\n",
       "      <th>chol</th>\n",
       "      <th>fbs</th>\n",
       "      <th>restecg</th>\n",
       "      <th>thalach</th>\n",
       "      <th>exang</th>\n",
       "      <th>oldpeak</th>\n",
       "      <th>slope</th>\n",
       "      <th>ca</th>\n",
       "      <th>thal</th>\n",
       "      <th>target</th>\n",
       "    </tr>\n",
       "  </thead>\n",
       "  <tbody>\n",
       "    <tr>\n",
       "      <th>0</th>\n",
       "      <td>63</td>\n",
       "      <td>1</td>\n",
       "      <td>3</td>\n",
       "      <td>145</td>\n",
       "      <td>233</td>\n",
       "      <td>1</td>\n",
       "      <td>0</td>\n",
       "      <td>150</td>\n",
       "      <td>0</td>\n",
       "      <td>2.3</td>\n",
       "      <td>0</td>\n",
       "      <td>0</td>\n",
       "      <td>1</td>\n",
       "      <td>1</td>\n",
       "    </tr>\n",
       "    <tr>\n",
       "      <th>1</th>\n",
       "      <td>37</td>\n",
       "      <td>1</td>\n",
       "      <td>2</td>\n",
       "      <td>130</td>\n",
       "      <td>250</td>\n",
       "      <td>0</td>\n",
       "      <td>1</td>\n",
       "      <td>187</td>\n",
       "      <td>0</td>\n",
       "      <td>3.5</td>\n",
       "      <td>0</td>\n",
       "      <td>0</td>\n",
       "      <td>2</td>\n",
       "      <td>1</td>\n",
       "    </tr>\n",
       "    <tr>\n",
       "      <th>2</th>\n",
       "      <td>41</td>\n",
       "      <td>0</td>\n",
       "      <td>1</td>\n",
       "      <td>130</td>\n",
       "      <td>204</td>\n",
       "      <td>0</td>\n",
       "      <td>0</td>\n",
       "      <td>172</td>\n",
       "      <td>0</td>\n",
       "      <td>1.4</td>\n",
       "      <td>2</td>\n",
       "      <td>0</td>\n",
       "      <td>2</td>\n",
       "      <td>1</td>\n",
       "    </tr>\n",
       "    <tr>\n",
       "      <th>3</th>\n",
       "      <td>56</td>\n",
       "      <td>1</td>\n",
       "      <td>1</td>\n",
       "      <td>120</td>\n",
       "      <td>236</td>\n",
       "      <td>0</td>\n",
       "      <td>1</td>\n",
       "      <td>178</td>\n",
       "      <td>0</td>\n",
       "      <td>0.8</td>\n",
       "      <td>2</td>\n",
       "      <td>0</td>\n",
       "      <td>2</td>\n",
       "      <td>1</td>\n",
       "    </tr>\n",
       "    <tr>\n",
       "      <th>4</th>\n",
       "      <td>57</td>\n",
       "      <td>0</td>\n",
       "      <td>0</td>\n",
       "      <td>120</td>\n",
       "      <td>354</td>\n",
       "      <td>0</td>\n",
       "      <td>1</td>\n",
       "      <td>163</td>\n",
       "      <td>1</td>\n",
       "      <td>0.6</td>\n",
       "      <td>2</td>\n",
       "      <td>0</td>\n",
       "      <td>2</td>\n",
       "      <td>1</td>\n",
       "    </tr>\n",
       "    <tr>\n",
       "      <th>...</th>\n",
       "      <td>...</td>\n",
       "      <td>...</td>\n",
       "      <td>...</td>\n",
       "      <td>...</td>\n",
       "      <td>...</td>\n",
       "      <td>...</td>\n",
       "      <td>...</td>\n",
       "      <td>...</td>\n",
       "      <td>...</td>\n",
       "      <td>...</td>\n",
       "      <td>...</td>\n",
       "      <td>...</td>\n",
       "      <td>...</td>\n",
       "      <td>...</td>\n",
       "    </tr>\n",
       "    <tr>\n",
       "      <th>298</th>\n",
       "      <td>57</td>\n",
       "      <td>0</td>\n",
       "      <td>0</td>\n",
       "      <td>140</td>\n",
       "      <td>241</td>\n",
       "      <td>0</td>\n",
       "      <td>1</td>\n",
       "      <td>123</td>\n",
       "      <td>1</td>\n",
       "      <td>0.2</td>\n",
       "      <td>1</td>\n",
       "      <td>0</td>\n",
       "      <td>3</td>\n",
       "      <td>0</td>\n",
       "    </tr>\n",
       "    <tr>\n",
       "      <th>299</th>\n",
       "      <td>45</td>\n",
       "      <td>1</td>\n",
       "      <td>3</td>\n",
       "      <td>110</td>\n",
       "      <td>264</td>\n",
       "      <td>0</td>\n",
       "      <td>1</td>\n",
       "      <td>132</td>\n",
       "      <td>0</td>\n",
       "      <td>1.2</td>\n",
       "      <td>1</td>\n",
       "      <td>0</td>\n",
       "      <td>3</td>\n",
       "      <td>0</td>\n",
       "    </tr>\n",
       "    <tr>\n",
       "      <th>300</th>\n",
       "      <td>68</td>\n",
       "      <td>1</td>\n",
       "      <td>0</td>\n",
       "      <td>144</td>\n",
       "      <td>193</td>\n",
       "      <td>1</td>\n",
       "      <td>1</td>\n",
       "      <td>141</td>\n",
       "      <td>0</td>\n",
       "      <td>3.4</td>\n",
       "      <td>1</td>\n",
       "      <td>2</td>\n",
       "      <td>3</td>\n",
       "      <td>0</td>\n",
       "    </tr>\n",
       "    <tr>\n",
       "      <th>301</th>\n",
       "      <td>57</td>\n",
       "      <td>1</td>\n",
       "      <td>0</td>\n",
       "      <td>130</td>\n",
       "      <td>131</td>\n",
       "      <td>0</td>\n",
       "      <td>1</td>\n",
       "      <td>115</td>\n",
       "      <td>1</td>\n",
       "      <td>1.2</td>\n",
       "      <td>1</td>\n",
       "      <td>1</td>\n",
       "      <td>3</td>\n",
       "      <td>0</td>\n",
       "    </tr>\n",
       "    <tr>\n",
       "      <th>302</th>\n",
       "      <td>57</td>\n",
       "      <td>0</td>\n",
       "      <td>1</td>\n",
       "      <td>130</td>\n",
       "      <td>236</td>\n",
       "      <td>0</td>\n",
       "      <td>0</td>\n",
       "      <td>174</td>\n",
       "      <td>0</td>\n",
       "      <td>0.0</td>\n",
       "      <td>1</td>\n",
       "      <td>1</td>\n",
       "      <td>2</td>\n",
       "      <td>0</td>\n",
       "    </tr>\n",
       "  </tbody>\n",
       "</table>\n",
       "<p>303 rows × 14 columns</p>\n",
       "</div>"
      ],
      "text/plain": [
       "     age  sex  cp  trestbps  chol  fbs  restecg  thalach  exang  oldpeak  \\\n",
       "0     63    1   3       145   233    1        0      150      0      2.3   \n",
       "1     37    1   2       130   250    0        1      187      0      3.5   \n",
       "2     41    0   1       130   204    0        0      172      0      1.4   \n",
       "3     56    1   1       120   236    0        1      178      0      0.8   \n",
       "4     57    0   0       120   354    0        1      163      1      0.6   \n",
       "..   ...  ...  ..       ...   ...  ...      ...      ...    ...      ...   \n",
       "298   57    0   0       140   241    0        1      123      1      0.2   \n",
       "299   45    1   3       110   264    0        1      132      0      1.2   \n",
       "300   68    1   0       144   193    1        1      141      0      3.4   \n",
       "301   57    1   0       130   131    0        1      115      1      1.2   \n",
       "302   57    0   1       130   236    0        0      174      0      0.0   \n",
       "\n",
       "     slope  ca  thal  target  \n",
       "0        0   0     1       1  \n",
       "1        0   0     2       1  \n",
       "2        2   0     2       1  \n",
       "3        2   0     2       1  \n",
       "4        2   0     2       1  \n",
       "..     ...  ..   ...     ...  \n",
       "298      1   0     3       0  \n",
       "299      1   0     3       0  \n",
       "300      1   2     3       0  \n",
       "301      1   1     3       0  \n",
       "302      1   1     2       0  \n",
       "\n",
       "[303 rows x 14 columns]"
      ]
     },
     "execution_count": 3,
     "metadata": {},
     "output_type": "execute_result"
    }
   ],
   "source": [
    "df = pd.read_csv(\"../input/heart-disease-uci/heart.csv\")\n",
    "df"
   ]
  },
  {
   "cell_type": "code",
   "execution_count": 4,
   "metadata": {
    "execution": {
     "iopub.execute_input": "2021-01-18T15:23:04.358667Z",
     "iopub.status.busy": "2021-01-18T15:23:04.357487Z",
     "iopub.status.idle": "2021-01-18T15:23:04.364286Z",
     "shell.execute_reply": "2021-01-18T15:23:04.364800Z"
    },
    "papermill": {
     "duration": 0.027813,
     "end_time": "2021-01-18T15:23:04.364956",
     "exception": false,
     "start_time": "2021-01-18T15:23:04.337143",
     "status": "completed"
    },
    "tags": []
   },
   "outputs": [
    {
     "data": {
      "text/plain": [
       "Index(['age', 'sex', 'cp', 'trestbps', 'chol', 'fbs', 'restecg', 'thalach',\n",
       "       'exang', 'oldpeak', 'slope', 'ca', 'thal', 'target'],\n",
       "      dtype='object')"
      ]
     },
     "execution_count": 4,
     "metadata": {},
     "output_type": "execute_result"
    }
   ],
   "source": [
    "df.columns"
   ]
  },
  {
   "cell_type": "code",
   "execution_count": 5,
   "metadata": {
    "execution": {
     "iopub.execute_input": "2021-01-18T15:23:04.403998Z",
     "iopub.status.busy": "2021-01-18T15:23:04.402884Z",
     "iopub.status.idle": "2021-01-18T15:23:04.411171Z",
     "shell.execute_reply": "2021-01-18T15:23:04.410641Z"
    },
    "papermill": {
     "duration": 0.029144,
     "end_time": "2021-01-18T15:23:04.411314",
     "exception": false,
     "start_time": "2021-01-18T15:23:04.382170",
     "status": "completed"
    },
    "tags": []
   },
   "outputs": [
    {
     "data": {
      "text/plain": [
       "<bound method Series.unique of 0      1\n",
       "1      1\n",
       "2      1\n",
       "3      1\n",
       "4      1\n",
       "      ..\n",
       "298    0\n",
       "299    0\n",
       "300    0\n",
       "301    0\n",
       "302    0\n",
       "Name: target, Length: 303, dtype: int64>"
      ]
     },
     "execution_count": 5,
     "metadata": {},
     "output_type": "execute_result"
    }
   ],
   "source": [
    "df[\"target\"].unique"
   ]
  },
  {
   "cell_type": "code",
   "execution_count": 6,
   "metadata": {
    "execution": {
     "iopub.execute_input": "2021-01-18T15:23:04.448452Z",
     "iopub.status.busy": "2021-01-18T15:23:04.447389Z",
     "iopub.status.idle": "2021-01-18T15:23:04.459132Z",
     "shell.execute_reply": "2021-01-18T15:23:04.458504Z"
    },
    "papermill": {
     "duration": 0.031725,
     "end_time": "2021-01-18T15:23:04.459271",
     "exception": false,
     "start_time": "2021-01-18T15:23:04.427546",
     "status": "completed"
    },
    "tags": []
   },
   "outputs": [
    {
     "data": {
      "text/plain": [
       "1    165\n",
       "0    138\n",
       "Name: target, dtype: int64"
      ]
     },
     "execution_count": 6,
     "metadata": {},
     "output_type": "execute_result"
    }
   ],
   "source": [
    "df[\"target\"].value_counts()"
   ]
  },
  {
   "cell_type": "markdown",
   "metadata": {
    "papermill": {
     "duration": 0.01635,
     "end_time": "2021-01-18T15:23:04.492227",
     "exception": false,
     "start_time": "2021-01-18T15:23:04.475877",
     "status": "completed"
    },
    "tags": []
   },
   "source": [
    "# **handle missing data**"
   ]
  },
  {
   "cell_type": "code",
   "execution_count": 7,
   "metadata": {
    "execution": {
     "iopub.execute_input": "2021-01-18T15:23:04.546957Z",
     "iopub.status.busy": "2021-01-18T15:23:04.545904Z",
     "iopub.status.idle": "2021-01-18T15:23:04.552929Z",
     "shell.execute_reply": "2021-01-18T15:23:04.551877Z"
    },
    "papermill": {
     "duration": 0.044445,
     "end_time": "2021-01-18T15:23:04.553113",
     "exception": false,
     "start_time": "2021-01-18T15:23:04.508668",
     "status": "completed"
    },
    "tags": []
   },
   "outputs": [
    {
     "name": "stdout",
     "output_type": "stream",
     "text": [
      "<class 'pandas.core.frame.DataFrame'>\n",
      "RangeIndex: 303 entries, 0 to 302\n",
      "Data columns (total 14 columns):\n",
      " #   Column    Non-Null Count  Dtype  \n",
      "---  ------    --------------  -----  \n",
      " 0   age       303 non-null    int64  \n",
      " 1   sex       303 non-null    int64  \n",
      " 2   cp        303 non-null    int64  \n",
      " 3   trestbps  303 non-null    int64  \n",
      " 4   chol      303 non-null    int64  \n",
      " 5   fbs       303 non-null    int64  \n",
      " 6   restecg   303 non-null    int64  \n",
      " 7   thalach   303 non-null    int64  \n",
      " 8   exang     303 non-null    int64  \n",
      " 9   oldpeak   303 non-null    float64\n",
      " 10  slope     303 non-null    int64  \n",
      " 11  ca        303 non-null    int64  \n",
      " 12  thal      303 non-null    int64  \n",
      " 13  target    303 non-null    int64  \n",
      "dtypes: float64(1), int64(13)\n",
      "memory usage: 33.3 KB\n"
     ]
    },
    {
     "data": {
      "text/plain": [
       "age         0\n",
       "sex         0\n",
       "cp          0\n",
       "trestbps    0\n",
       "chol        0\n",
       "fbs         0\n",
       "restecg     0\n",
       "thalach     0\n",
       "exang       0\n",
       "oldpeak     0\n",
       "slope       0\n",
       "ca          0\n",
       "thal        0\n",
       "target      0\n",
       "dtype: int64"
      ]
     },
     "execution_count": 7,
     "metadata": {},
     "output_type": "execute_result"
    }
   ],
   "source": [
    "df.info()\n",
    "df.isna().sum()"
   ]
  },
  {
   "cell_type": "markdown",
   "metadata": {
    "papermill": {
     "duration": 0.016944,
     "end_time": "2021-01-18T15:23:04.588304",
     "exception": false,
     "start_time": "2021-01-18T15:23:04.571360",
     "status": "completed"
    },
    "tags": []
   },
   "source": [
    "# **Training data**"
   ]
  },
  {
   "cell_type": "code",
   "execution_count": 8,
   "metadata": {
    "execution": {
     "iopub.execute_input": "2021-01-18T15:23:04.634747Z",
     "iopub.status.busy": "2021-01-18T15:23:04.634043Z",
     "iopub.status.idle": "2021-01-18T15:23:04.638158Z",
     "shell.execute_reply": "2021-01-18T15:23:04.637429Z"
    },
    "papermill": {
     "duration": 0.031884,
     "end_time": "2021-01-18T15:23:04.638315",
     "exception": false,
     "start_time": "2021-01-18T15:23:04.606431",
     "status": "completed"
    },
    "tags": []
   },
   "outputs": [],
   "source": [
    "x = df.drop(\"target\" , axis =1)\n",
    "y = df[\"target\"]"
   ]
  },
  {
   "cell_type": "code",
   "execution_count": 9,
   "metadata": {
    "execution": {
     "iopub.execute_input": "2021-01-18T15:23:04.682586Z",
     "iopub.status.busy": "2021-01-18T15:23:04.681839Z",
     "iopub.status.idle": "2021-01-18T15:23:04.686543Z",
     "shell.execute_reply": "2021-01-18T15:23:04.685309Z"
    },
    "papermill": {
     "duration": 0.030555,
     "end_time": "2021-01-18T15:23:04.686698",
     "exception": false,
     "start_time": "2021-01-18T15:23:04.656143",
     "status": "completed"
    },
    "tags": []
   },
   "outputs": [],
   "source": [
    "x_train , x_test , y_train , y_test = train_test_split(x ,y , test_size=0.3)     # test by 30%\n"
   ]
  },
  {
   "cell_type": "markdown",
   "metadata": {
    "papermill": {
     "duration": 0.01801,
     "end_time": "2021-01-18T15:23:04.723664",
     "exception": false,
     "start_time": "2021-01-18T15:23:04.705654",
     "status": "completed"
    },
    "tags": []
   },
   "source": [
    "# **choose modle (estimator)**"
   ]
  },
  {
   "cell_type": "code",
   "execution_count": 10,
   "metadata": {
    "execution": {
     "iopub.execute_input": "2021-01-18T15:23:04.763540Z",
     "iopub.status.busy": "2021-01-18T15:23:04.762741Z",
     "iopub.status.idle": "2021-01-18T15:23:04.935305Z",
     "shell.execute_reply": "2021-01-18T15:23:04.936311Z"
    },
    "papermill": {
     "duration": 0.195201,
     "end_time": "2021-01-18T15:23:04.936511",
     "exception": false,
     "start_time": "2021-01-18T15:23:04.741310",
     "status": "completed"
    },
    "tags": []
   },
   "outputs": [],
   "source": [
    "from sklearn.ensemble import RandomForestClassifier\n",
    "model=RandomForestClassifier(criterion='entropy', max_depth=7, n_estimators=70,\n",
    "                       n_jobs=-1)"
   ]
  },
  {
   "cell_type": "code",
   "execution_count": 11,
   "metadata": {
    "execution": {
     "iopub.execute_input": "2021-01-18T15:23:04.991553Z",
     "iopub.status.busy": "2021-01-18T15:23:04.986097Z",
     "iopub.status.idle": "2021-01-18T15:23:05.348795Z",
     "shell.execute_reply": "2021-01-18T15:23:05.347823Z"
    },
    "papermill": {
     "duration": 0.391564,
     "end_time": "2021-01-18T15:23:05.348968",
     "exception": false,
     "start_time": "2021-01-18T15:23:04.957404",
     "status": "completed"
    },
    "tags": []
   },
   "outputs": [
    {
     "name": "stdout",
     "output_type": "stream",
     "text": [
      "0.8241758241758241\n"
     ]
    }
   ],
   "source": [
    "# testing\n",
    "# train (input , output)\n",
    "scalled = model.fit(x_train , y_train )\n",
    "\n",
    "# validate modle \n",
    "#print(model.score(x_train , y_train))\n",
    "print(model.score(x_test , y_test))"
   ]
  },
  {
   "cell_type": "markdown",
   "metadata": {
    "papermill": {
     "duration": 0.017732,
     "end_time": "2021-01-18T15:23:05.385855",
     "exception": false,
     "start_time": "2021-01-18T15:23:05.368123",
     "status": "completed"
    },
    "tags": []
   },
   "source": [
    "really score for model"
   ]
  },
  {
   "cell_type": "code",
   "execution_count": 12,
   "metadata": {
    "execution": {
     "iopub.execute_input": "2021-01-18T15:23:05.429729Z",
     "iopub.status.busy": "2021-01-18T15:23:05.428856Z",
     "iopub.status.idle": "2021-01-18T15:23:08.660901Z",
     "shell.execute_reply": "2021-01-18T15:23:08.660186Z"
    },
    "papermill": {
     "duration": 3.256507,
     "end_time": "2021-01-18T15:23:08.661028",
     "exception": false,
     "start_time": "2021-01-18T15:23:05.404521",
     "status": "completed"
    },
    "tags": []
   },
   "outputs": [
    {
     "name": "stdout",
     "output_type": "stream",
     "text": [
      "0.8083060109289617\n"
     ]
    }
   ],
   "source": [
    "from sklearn.model_selection import cross_val_score\n",
    "validator = cross_val_score(model ,x, y ,cv =5)\n",
    "print(np.mean(validator)) "
   ]
  },
  {
   "cell_type": "markdown",
   "metadata": {
    "papermill": {
     "duration": 0.018495,
     "end_time": "2021-01-18T15:23:08.698568",
     "exception": false,
     "start_time": "2021-01-18T15:23:08.680073",
     "status": "completed"
    },
    "tags": []
   },
   "source": [
    "# tune modle prams"
   ]
  },
  {
   "cell_type": "markdown",
   "metadata": {
    "papermill": {
     "duration": 0.019316,
     "end_time": "2021-01-18T15:23:08.736686",
     "exception": false,
     "start_time": "2021-01-18T15:23:08.717370",
     "status": "completed"
    },
    "tags": []
   },
   "source": [
    "It is better to compensate with the parameters resulting from the Tuning process in the model"
   ]
  },
  {
   "cell_type": "code",
   "execution_count": 13,
   "metadata": {
    "execution": {
     "iopub.execute_input": "2021-01-18T15:23:08.779774Z",
     "iopub.status.busy": "2021-01-18T15:23:08.779004Z",
     "iopub.status.idle": "2021-01-18T15:26:33.525711Z",
     "shell.execute_reply": "2021-01-18T15:26:33.525001Z"
    },
    "papermill": {
     "duration": 204.770299,
     "end_time": "2021-01-18T15:26:33.525852",
     "exception": false,
     "start_time": "2021-01-18T15:23:08.755553",
     "status": "completed"
    },
    "tags": []
   },
   "outputs": [
    {
     "name": "stdout",
     "output_type": "stream",
     "text": [
      "Fitting 3 folds for each of 288 candidates, totalling 864 fits\n"
     ]
    },
    {
     "name": "stderr",
     "output_type": "stream",
     "text": [
      "[Parallel(n_jobs=1)]: Using backend SequentialBackend with 1 concurrent workers.\n"
     ]
    },
    {
     "name": "stdout",
     "output_type": "stream",
     "text": [
      "RandomForestClassifier(criterion='entropy', max_depth=3, max_features='sqrt',\n",
      "                       n_estimators=10, n_jobs=-1)\n"
     ]
    },
    {
     "name": "stderr",
     "output_type": "stream",
     "text": [
      "[Parallel(n_jobs=1)]: Done 864 out of 864 | elapsed:  3.4min finished\n"
     ]
    }
   ],
   "source": [
    "parameters ={'n_estimators':(10,30,50,70,90,100),\n",
    "            'criterion':('gini' , 'entropy'),\n",
    "            'max_depth':(3,5,7,9),\n",
    "            'max_features':('auto' , 'sqrt'),\n",
    "            'min_samples_split':(2,4,6)\n",
    "}\n",
    "grid = GridSearchCV(RandomForestClassifier(n_jobs=-1,oob_score=False), param_grid=parameters ,cv =3 , verbose=True)\n",
    "tune_grid = grid.fit(x_train , y_train)\n",
    "print(tune_grid.best_estimator_)"
   ]
  },
  {
   "cell_type": "markdown",
   "metadata": {
    "papermill": {
     "duration": 0.019553,
     "end_time": "2021-01-18T15:26:33.566172",
     "exception": false,
     "start_time": "2021-01-18T15:26:33.546619",
     "status": "completed"
    },
    "tags": []
   },
   "source": [
    "**report**"
   ]
  },
  {
   "cell_type": "code",
   "execution_count": 14,
   "metadata": {
    "execution": {
     "iopub.execute_input": "2021-01-18T15:26:33.639305Z",
     "iopub.status.busy": "2021-01-18T15:26:33.638174Z",
     "iopub.status.idle": "2021-01-18T15:26:33.752730Z",
     "shell.execute_reply": "2021-01-18T15:26:33.753557Z"
    },
    "papermill": {
     "duration": 0.156609,
     "end_time": "2021-01-18T15:26:33.753777",
     "exception": false,
     "start_time": "2021-01-18T15:26:33.597168",
     "status": "completed"
    },
    "tags": []
   },
   "outputs": [
    {
     "name": "stdout",
     "output_type": "stream",
     "text": [
      "              precision    recall  f1-score   support\n",
      "\n",
      "           0       0.80      0.80      0.80        41\n",
      "           1       0.84      0.84      0.84        50\n",
      "\n",
      "    accuracy                           0.82        91\n",
      "   macro avg       0.82      0.82      0.82        91\n",
      "weighted avg       0.82      0.82      0.82        91\n",
      "\n"
     ]
    }
   ],
   "source": [
    "from sklearn.metrics import classification_report\n",
    "y_predicted = model.predict(x_test)\n",
    "print(classification_report(y_test , y_predicted))"
   ]
  }
 ],
 "metadata": {
  "kernelspec": {
   "display_name": "Python 3",
   "language": "python",
   "name": "python3"
  },
  "language_info": {
   "codemirror_mode": {
    "name": "ipython",
    "version": 3
   },
   "file_extension": ".py",
   "mimetype": "text/x-python",
   "name": "python",
   "nbconvert_exporter": "python",
   "pygments_lexer": "ipython3",
   "version": "3.7.6"
  },
  "papermill": {
   "duration": 218.132694,
   "end_time": "2021-01-18T15:26:34.838153",
   "environment_variables": {},
   "exception": null,
   "input_path": "__notebook__.ipynb",
   "output_path": "__notebook__.ipynb",
   "parameters": {},
   "start_time": "2021-01-18T15:22:56.705459",
   "version": "2.1.0"
  }
 },
 "nbformat": 4,
 "nbformat_minor": 4
}
